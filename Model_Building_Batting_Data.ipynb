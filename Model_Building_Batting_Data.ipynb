{
 "cells": [
  {
   "cell_type": "code",
   "execution_count": 44,
   "metadata": {},
   "outputs": [],
   "source": [
    "import pandas as pd\n",
    "import numpy as np"
   ]
  },
  {
   "cell_type": "code",
   "execution_count": 45,
   "metadata": {},
   "outputs": [],
   "source": [
    "df=pd.read_csv(\"Dream_Batting_Stats.csv\")"
   ]
  },
  {
   "cell_type": "code",
   "execution_count": 46,
   "metadata": {},
   "outputs": [
    {
     "name": "stdout",
     "output_type": "stream",
     "text": [
      "<class 'pandas.core.frame.DataFrame'>\n",
      "RangeIndex: 9085 entries, 0 to 9084\n",
      "Data columns (total 33 columns):\n",
      "match_id                9085 non-null int64\n",
      "inning                  9085 non-null int64\n",
      "season                  9085 non-null int64\n",
      "batsman                 9085 non-null object\n",
      "venue                   9085 non-null object\n",
      "toss_winner             9085 non-null object\n",
      "toss_decision           9085 non-null object\n",
      "batting_team            9085 non-null object\n",
      "bowling_team            9085 non-null object\n",
      "Batsmen_Order           9085 non-null int64\n",
      "Batting_hand            9085 non-null int64\n",
      "Played_at_age           9085 non-null int64\n",
      "Played_at_age_Bucket    9085 non-null object\n",
      "Ground_Type             9085 non-null object\n",
      "Total_Runs              9085 non-null int64\n",
      "Mean_ven                9085 non-null float64\n",
      "Median_ven              9085 non-null float64\n",
      "Min_ven                 9085 non-null int64\n",
      "Max_ven                 9085 non-null int64\n",
      "Mean_ord                9085 non-null float64\n",
      "Median_ord              9085 non-null float64\n",
      "Min_ord                 9085 non-null int64\n",
      "Max_ord                 9085 non-null int64\n",
      "Total_Dream_Score       9085 non-null int64\n",
      "Espn_Id                 9023 non-null float64\n",
      "strike_rate             9085 non-null float64\n",
      "batting_average         9085 non-null float64\n",
      "centuries               9085 non-null int64\n",
      "fifties                 9085 non-null int64\n",
      "fours                   9085 non-null int64\n",
      "sixes                   9085 non-null int64\n",
      "Espn_id                 9015 non-null float64\n",
      "Espn_play_role          9015 non-null object\n",
      "dtypes: float64(8), int64(16), object(9)\n",
      "memory usage: 2.3+ MB\n"
     ]
    }
   ],
   "source": [
    "df.info()"
   ]
  },
  {
   "cell_type": "code",
   "execution_count": 47,
   "metadata": {},
   "outputs": [
    {
     "data": {
      "text/plain": [
       "True"
      ]
     },
     "execution_count": 47,
     "metadata": {},
     "output_type": "execute_result"
    }
   ],
   "source": [
    "df.isnull().values.any()\n",
    "#df=df.drop('batsman', axis=1)"
   ]
  },
  {
   "cell_type": "code",
   "execution_count": 48,
   "metadata": {},
   "outputs": [],
   "source": [
    "df['Batting_hand_dumm'] = np.select(\n",
    "[df['Batting_hand'] == 1,df['Batting_hand'] == 2],\n",
    "[0,1])"
   ]
  },
  {
   "cell_type": "code",
   "execution_count": 49,
   "metadata": {},
   "outputs": [],
   "source": [
    "df['toss_decision_dumm'] = np.select(\n",
    "[df['toss_decision'] =='field', df['toss_decision'] == 'bat'],\n",
    "[0,1]\n",
    ")"
   ]
  },
  {
   "cell_type": "code",
   "execution_count": 50,
   "metadata": {},
   "outputs": [],
   "source": [
    "df['Ground_Type_dumm'] = np.select(\n",
    "[df['Ground_Type'] == 'Home', df['Ground_Type'] == 'Away'],\n",
    "[0,1])"
   ]
  },
  {
   "cell_type": "code",
   "execution_count": 51,
   "metadata": {},
   "outputs": [
    {
     "data": {
      "text/html": [
       "<div>\n",
       "<style scoped>\n",
       "    .dataframe tbody tr th:only-of-type {\n",
       "        vertical-align: middle;\n",
       "    }\n",
       "\n",
       "    .dataframe tbody tr th {\n",
       "        vertical-align: top;\n",
       "    }\n",
       "\n",
       "    .dataframe thead th {\n",
       "        text-align: right;\n",
       "    }\n",
       "</style>\n",
       "<table border=\"1\" class=\"dataframe\">\n",
       "  <thead>\n",
       "    <tr style=\"text-align: right;\">\n",
       "      <th></th>\n",
       "      <th>match_id</th>\n",
       "      <th>inning</th>\n",
       "      <th>season</th>\n",
       "      <th>batsman</th>\n",
       "      <th>venue</th>\n",
       "      <th>toss_winner</th>\n",
       "      <th>toss_decision</th>\n",
       "      <th>batting_team</th>\n",
       "      <th>bowling_team</th>\n",
       "      <th>Batsmen_Order</th>\n",
       "      <th>...</th>\n",
       "      <th>batting_average</th>\n",
       "      <th>centuries</th>\n",
       "      <th>fifties</th>\n",
       "      <th>fours</th>\n",
       "      <th>sixes</th>\n",
       "      <th>Espn_id</th>\n",
       "      <th>Espn_play_role</th>\n",
       "      <th>Batting_hand_dumm</th>\n",
       "      <th>toss_decision_dumm</th>\n",
       "      <th>Ground_Type_dumm</th>\n",
       "    </tr>\n",
       "  </thead>\n",
       "  <tbody>\n",
       "    <tr>\n",
       "      <th>0</th>\n",
       "      <td>1</td>\n",
       "      <td>1</td>\n",
       "      <td>2017</td>\n",
       "      <td>BCJ Cutting</td>\n",
       "      <td>Rajiv Gandhi International Stadium,Uppal</td>\n",
       "      <td>RCB</td>\n",
       "      <td>field</td>\n",
       "      <td>SRH</td>\n",
       "      <td>RCB</td>\n",
       "      <td>5</td>\n",
       "      <td>...</td>\n",
       "      <td>22.14</td>\n",
       "      <td>0</td>\n",
       "      <td>3</td>\n",
       "      <td>100</td>\n",
       "      <td>120</td>\n",
       "      <td>230371.0</td>\n",
       "      <td>Allrounder</td>\n",
       "      <td>1</td>\n",
       "      <td>0</td>\n",
       "      <td>0</td>\n",
       "    </tr>\n",
       "    <tr>\n",
       "      <th>1</th>\n",
       "      <td>1</td>\n",
       "      <td>1</td>\n",
       "      <td>2017</td>\n",
       "      <td>DA Warner</td>\n",
       "      <td>Rajiv Gandhi International Stadium,Uppal</td>\n",
       "      <td>RCB</td>\n",
       "      <td>field</td>\n",
       "      <td>SRH</td>\n",
       "      <td>RCB</td>\n",
       "      <td>1</td>\n",
       "      <td>...</td>\n",
       "      <td>37.71</td>\n",
       "      <td>8</td>\n",
       "      <td>73</td>\n",
       "      <td>891</td>\n",
       "      <td>356</td>\n",
       "      <td>219889.0</td>\n",
       "      <td>Opening batsman</td>\n",
       "      <td>0</td>\n",
       "      <td>0</td>\n",
       "      <td>0</td>\n",
       "    </tr>\n",
       "    <tr>\n",
       "      <th>2</th>\n",
       "      <td>1</td>\n",
       "      <td>1</td>\n",
       "      <td>2017</td>\n",
       "      <td>DJ Hooda</td>\n",
       "      <td>Rajiv Gandhi International Stadium,Uppal</td>\n",
       "      <td>RCB</td>\n",
       "      <td>field</td>\n",
       "      <td>SRH</td>\n",
       "      <td>RCB</td>\n",
       "      <td>4</td>\n",
       "      <td>...</td>\n",
       "      <td>21.27</td>\n",
       "      <td>1</td>\n",
       "      <td>7</td>\n",
       "      <td>103</td>\n",
       "      <td>72</td>\n",
       "      <td>497121.0</td>\n",
       "      <td>Allrounder</td>\n",
       "      <td>1</td>\n",
       "      <td>0</td>\n",
       "      <td>0</td>\n",
       "    </tr>\n",
       "    <tr>\n",
       "      <th>3</th>\n",
       "      <td>1</td>\n",
       "      <td>1</td>\n",
       "      <td>2017</td>\n",
       "      <td>MC Henriques</td>\n",
       "      <td>Rajiv Gandhi International Stadium,Uppal</td>\n",
       "      <td>RCB</td>\n",
       "      <td>field</td>\n",
       "      <td>SRH</td>\n",
       "      <td>RCB</td>\n",
       "      <td>2</td>\n",
       "      <td>...</td>\n",
       "      <td>26.63</td>\n",
       "      <td>0</td>\n",
       "      <td>17</td>\n",
       "      <td>285</td>\n",
       "      <td>103</td>\n",
       "      <td>5961.0</td>\n",
       "      <td>Allrounder</td>\n",
       "      <td>1</td>\n",
       "      <td>0</td>\n",
       "      <td>0</td>\n",
       "    </tr>\n",
       "    <tr>\n",
       "      <th>4</th>\n",
       "      <td>1</td>\n",
       "      <td>1</td>\n",
       "      <td>2017</td>\n",
       "      <td>S Dhawan</td>\n",
       "      <td>Rajiv Gandhi International Stadium,Uppal</td>\n",
       "      <td>RCB</td>\n",
       "      <td>field</td>\n",
       "      <td>SRH</td>\n",
       "      <td>RCB</td>\n",
       "      <td>0</td>\n",
       "      <td>...</td>\n",
       "      <td>31.71</td>\n",
       "      <td>0</td>\n",
       "      <td>54</td>\n",
       "      <td>831</td>\n",
       "      <td>166</td>\n",
       "      <td>28235.0</td>\n",
       "      <td>Opening batsman</td>\n",
       "      <td>0</td>\n",
       "      <td>0</td>\n",
       "      <td>0</td>\n",
       "    </tr>\n",
       "  </tbody>\n",
       "</table>\n",
       "<p>5 rows × 36 columns</p>\n",
       "</div>"
      ],
      "text/plain": [
       "   match_id  inning  season       batsman  \\\n",
       "0         1       1    2017   BCJ Cutting   \n",
       "1         1       1    2017     DA Warner   \n",
       "2         1       1    2017      DJ Hooda   \n",
       "3         1       1    2017  MC Henriques   \n",
       "4         1       1    2017      S Dhawan   \n",
       "\n",
       "                                      venue toss_winner toss_decision  \\\n",
       "0  Rajiv Gandhi International Stadium,Uppal         RCB         field   \n",
       "1  Rajiv Gandhi International Stadium,Uppal         RCB         field   \n",
       "2  Rajiv Gandhi International Stadium,Uppal         RCB         field   \n",
       "3  Rajiv Gandhi International Stadium,Uppal         RCB         field   \n",
       "4  Rajiv Gandhi International Stadium,Uppal         RCB         field   \n",
       "\n",
       "  batting_team bowling_team  Batsmen_Order        ...         batting_average  \\\n",
       "0          SRH          RCB              5        ...                   22.14   \n",
       "1          SRH          RCB              1        ...                   37.71   \n",
       "2          SRH          RCB              4        ...                   21.27   \n",
       "3          SRH          RCB              2        ...                   26.63   \n",
       "4          SRH          RCB              0        ...                   31.71   \n",
       "\n",
       "   centuries fifties fours  sixes   Espn_id   Espn_play_role  \\\n",
       "0          0       3   100    120  230371.0       Allrounder   \n",
       "1          8      73   891    356  219889.0  Opening batsman   \n",
       "2          1       7   103     72  497121.0       Allrounder   \n",
       "3          0      17   285    103    5961.0       Allrounder   \n",
       "4          0      54   831    166   28235.0  Opening batsman   \n",
       "\n",
       "   Batting_hand_dumm  toss_decision_dumm  Ground_Type_dumm  \n",
       "0                  1                   0                 0  \n",
       "1                  0                   0                 0  \n",
       "2                  1                   0                 0  \n",
       "3                  1                   0                 0  \n",
       "4                  0                   0                 0  \n",
       "\n",
       "[5 rows x 36 columns]"
      ]
     },
     "execution_count": 51,
     "metadata": {},
     "output_type": "execute_result"
    }
   ],
   "source": [
    "df.head()"
   ]
  },
  {
   "cell_type": "code",
   "execution_count": 52,
   "metadata": {},
   "outputs": [],
   "source": [
    "df['batsman_count_in_series'] = df.groupby(['batsman','season']).cumcount()+1\n",
    "#df['C'] = df.groupby(['A','B']).cumcount()+1;"
   ]
  },
  {
   "cell_type": "code",
   "execution_count": 53,
   "metadata": {},
   "outputs": [
    {
     "data": {
      "text/html": [
       "<div>\n",
       "<style scoped>\n",
       "    .dataframe tbody tr th:only-of-type {\n",
       "        vertical-align: middle;\n",
       "    }\n",
       "\n",
       "    .dataframe tbody tr th {\n",
       "        vertical-align: top;\n",
       "    }\n",
       "\n",
       "    .dataframe thead th {\n",
       "        text-align: right;\n",
       "    }\n",
       "</style>\n",
       "<table border=\"1\" class=\"dataframe\">\n",
       "  <thead>\n",
       "    <tr style=\"text-align: right;\">\n",
       "      <th></th>\n",
       "      <th>batsman</th>\n",
       "      <th>batsman_count_in_series</th>\n",
       "      <th>Total_Dream_Score</th>\n",
       "    </tr>\n",
       "  </thead>\n",
       "  <tbody>\n",
       "    <tr>\n",
       "      <th>0</th>\n",
       "      <td>BCJ Cutting</td>\n",
       "      <td>1</td>\n",
       "      <td>20</td>\n",
       "    </tr>\n",
       "    <tr>\n",
       "      <th>62</th>\n",
       "      <td>BCJ Cutting</td>\n",
       "      <td>2</td>\n",
       "      <td>24</td>\n",
       "    </tr>\n",
       "    <tr>\n",
       "      <th>111</th>\n",
       "      <td>BCJ Cutting</td>\n",
       "      <td>3</td>\n",
       "      <td>18</td>\n",
       "    </tr>\n",
       "    <tr>\n",
       "      <th>5892</th>\n",
       "      <td>BCJ Cutting</td>\n",
       "      <td>1</td>\n",
       "      <td>10</td>\n",
       "    </tr>\n",
       "    <tr>\n",
       "      <th>7298</th>\n",
       "      <td>BCJ Cutting</td>\n",
       "      <td>1</td>\n",
       "      <td>22</td>\n",
       "    </tr>\n",
       "  </tbody>\n",
       "</table>\n",
       "</div>"
      ],
      "text/plain": [
       "          batsman  batsman_count_in_series  Total_Dream_Score\n",
       "0     BCJ Cutting                        1                 20\n",
       "62    BCJ Cutting                        2                 24\n",
       "111   BCJ Cutting                        3                 18\n",
       "5892  BCJ Cutting                        1                 10\n",
       "7298  BCJ Cutting                        1                 22"
      ]
     },
     "execution_count": 53,
     "metadata": {},
     "output_type": "execute_result"
    }
   ],
   "source": [
    "df[df['batsman'] == 'BCJ Cutting'][['batsman','batsman_count_in_series','Total_Dream_Score']].head()"
   ]
  },
  {
   "cell_type": "code",
   "execution_count": 54,
   "metadata": {},
   "outputs": [
    {
     "name": "stdout",
     "output_type": "stream",
     "text": [
      "<class 'pandas.core.frame.DataFrame'>\n",
      "RangeIndex: 9085 entries, 0 to 9084\n",
      "Data columns (total 37 columns):\n",
      "match_id                   9085 non-null int64\n",
      "inning                     9085 non-null int64\n",
      "season                     9085 non-null int64\n",
      "batsman                    9085 non-null object\n",
      "venue                      9085 non-null object\n",
      "toss_winner                9085 non-null object\n",
      "toss_decision              9085 non-null object\n",
      "batting_team               9085 non-null object\n",
      "bowling_team               9085 non-null object\n",
      "Batsmen_Order              9085 non-null int64\n",
      "Batting_hand               9085 non-null int64\n",
      "Played_at_age              9085 non-null int64\n",
      "Played_at_age_Bucket       9085 non-null object\n",
      "Ground_Type                9085 non-null object\n",
      "Total_Runs                 9085 non-null int64\n",
      "Mean_ven                   9085 non-null float64\n",
      "Median_ven                 9085 non-null float64\n",
      "Min_ven                    9085 non-null int64\n",
      "Max_ven                    9085 non-null int64\n",
      "Mean_ord                   9085 non-null float64\n",
      "Median_ord                 9085 non-null float64\n",
      "Min_ord                    9085 non-null int64\n",
      "Max_ord                    9085 non-null int64\n",
      "Total_Dream_Score          9085 non-null int64\n",
      "Espn_Id                    9023 non-null float64\n",
      "strike_rate                9085 non-null float64\n",
      "batting_average            9085 non-null float64\n",
      "centuries                  9085 non-null int64\n",
      "fifties                    9085 non-null int64\n",
      "fours                      9085 non-null int64\n",
      "sixes                      9085 non-null int64\n",
      "Espn_id                    9015 non-null float64\n",
      "Espn_play_role             9015 non-null object\n",
      "Batting_hand_dumm          9085 non-null int32\n",
      "toss_decision_dumm         9085 non-null int32\n",
      "Ground_Type_dumm           9085 non-null int32\n",
      "batsman_count_in_series    9085 non-null int64\n",
      "dtypes: float64(8), int32(3), int64(17), object(9)\n",
      "memory usage: 2.5+ MB\n"
     ]
    }
   ],
   "source": [
    "df.info()"
   ]
  },
  {
   "cell_type": "code",
   "execution_count": 55,
   "metadata": {},
   "outputs": [
    {
     "data": {
      "text/html": [
       "<div>\n",
       "<style scoped>\n",
       "    .dataframe tbody tr th:only-of-type {\n",
       "        vertical-align: middle;\n",
       "    }\n",
       "\n",
       "    .dataframe tbody tr th {\n",
       "        vertical-align: top;\n",
       "    }\n",
       "\n",
       "    .dataframe thead th {\n",
       "        text-align: right;\n",
       "    }\n",
       "</style>\n",
       "<table border=\"1\" class=\"dataframe\">\n",
       "  <thead>\n",
       "    <tr style=\"text-align: right;\">\n",
       "      <th></th>\n",
       "      <th>Batsmen_Order</th>\n",
       "      <th>venue</th>\n",
       "      <th>batsman</th>\n",
       "      <th>Mean_Ven_ord_runs</th>\n",
       "      <th>Median_Ven_ord_runs</th>\n",
       "      <th>Min_Ven_ord_runs</th>\n",
       "      <th>Max_Ven_ord_runs</th>\n",
       "    </tr>\n",
       "  </thead>\n",
       "  <tbody>\n",
       "    <tr>\n",
       "      <th>0</th>\n",
       "      <td>0</td>\n",
       "      <td>Barabati Stadium</td>\n",
       "      <td>AC Gilchrist</td>\n",
       "      <td>24.0</td>\n",
       "      <td>24.0</td>\n",
       "      <td>24</td>\n",
       "      <td>24</td>\n",
       "    </tr>\n",
       "    <tr>\n",
       "      <th>1</th>\n",
       "      <td>0</td>\n",
       "      <td>Barabati Stadium</td>\n",
       "      <td>DA Warner</td>\n",
       "      <td>57.0</td>\n",
       "      <td>57.0</td>\n",
       "      <td>57</td>\n",
       "      <td>57</td>\n",
       "    </tr>\n",
       "    <tr>\n",
       "      <th>2</th>\n",
       "      <td>0</td>\n",
       "      <td>Barabati Stadium</td>\n",
       "      <td>DR Smith</td>\n",
       "      <td>4.0</td>\n",
       "      <td>4.0</td>\n",
       "      <td>4</td>\n",
       "      <td>4</td>\n",
       "    </tr>\n",
       "    <tr>\n",
       "      <th>3</th>\n",
       "      <td>0</td>\n",
       "      <td>Barabati Stadium</td>\n",
       "      <td>G Gambhir</td>\n",
       "      <td>46.5</td>\n",
       "      <td>46.5</td>\n",
       "      <td>30</td>\n",
       "      <td>63</td>\n",
       "    </tr>\n",
       "    <tr>\n",
       "      <th>4</th>\n",
       "      <td>0</td>\n",
       "      <td>Barabati Stadium</td>\n",
       "      <td>LMP Simmons</td>\n",
       "      <td>12.0</td>\n",
       "      <td>12.0</td>\n",
       "      <td>12</td>\n",
       "      <td>12</td>\n",
       "    </tr>\n",
       "  </tbody>\n",
       "</table>\n",
       "</div>"
      ],
      "text/plain": [
       "   Batsmen_Order             venue       batsman  Mean_Ven_ord_runs  \\\n",
       "0              0  Barabati Stadium  AC Gilchrist               24.0   \n",
       "1              0  Barabati Stadium     DA Warner               57.0   \n",
       "2              0  Barabati Stadium      DR Smith                4.0   \n",
       "3              0  Barabati Stadium     G Gambhir               46.5   \n",
       "4              0  Barabati Stadium   LMP Simmons               12.0   \n",
       "\n",
       "   Median_Ven_ord_runs  Min_Ven_ord_runs  Max_Ven_ord_runs  \n",
       "0                 24.0                24                24  \n",
       "1                 57.0                57                57  \n",
       "2                  4.0                 4                 4  \n",
       "3                 46.5                30                63  \n",
       "4                 12.0                12                12  "
      ]
     },
     "execution_count": 55,
     "metadata": {},
     "output_type": "execute_result"
    }
   ],
   "source": [
    "groups_ord = df.groupby(['Batsmen_Order','venue','batsman']).agg({'Total_Runs': ['mean','median','min','max']}).reset_index()\n",
    "groups_ord.columns = groups_ord.columns.droplevel()\n",
    "#{'Mean','Median','Min','Max'}\n",
    "groups_ord.columns=['Batsmen_Order','venue','batsman','Mean_Ven_ord_runs','Median_Ven_ord_runs','Min_Ven_ord_runs','Max_Ven_ord_runs']\n",
    "groups_ord.head()"
   ]
  },
  {
   "cell_type": "code",
   "execution_count": 56,
   "metadata": {},
   "outputs": [],
   "source": [
    "df1 = pd.merge(df,groups_ord, how = 'left', left_on = ['Batsmen_Order','venue','batsman'], right_on = ['Batsmen_Order','venue','batsman'])"
   ]
  },
  {
   "cell_type": "code",
   "execution_count": 57,
   "metadata": {},
   "outputs": [
    {
     "data": {
      "text/html": [
       "<div>\n",
       "<style scoped>\n",
       "    .dataframe tbody tr th:only-of-type {\n",
       "        vertical-align: middle;\n",
       "    }\n",
       "\n",
       "    .dataframe tbody tr th {\n",
       "        vertical-align: top;\n",
       "    }\n",
       "\n",
       "    .dataframe thead th {\n",
       "        text-align: right;\n",
       "    }\n",
       "</style>\n",
       "<table border=\"1\" class=\"dataframe\">\n",
       "  <thead>\n",
       "    <tr style=\"text-align: right;\">\n",
       "      <th></th>\n",
       "      <th>batsman</th>\n",
       "      <th>Mean_runs</th>\n",
       "      <th>Median_runs</th>\n",
       "      <th>Min_runs</th>\n",
       "      <th>Max_runs</th>\n",
       "    </tr>\n",
       "  </thead>\n",
       "  <tbody>\n",
       "    <tr>\n",
       "      <th>0</th>\n",
       "      <td>A Ashish Reddy</td>\n",
       "      <td>12.095238</td>\n",
       "      <td>10.0</td>\n",
       "      <td>2</td>\n",
       "      <td>36</td>\n",
       "    </tr>\n",
       "    <tr>\n",
       "      <th>1</th>\n",
       "      <td>A Chandila</td>\n",
       "      <td>2.000000</td>\n",
       "      <td>2.0</td>\n",
       "      <td>0</td>\n",
       "      <td>4</td>\n",
       "    </tr>\n",
       "    <tr>\n",
       "      <th>2</th>\n",
       "      <td>A Chopra</td>\n",
       "      <td>8.833333</td>\n",
       "      <td>6.5</td>\n",
       "      <td>1</td>\n",
       "      <td>24</td>\n",
       "    </tr>\n",
       "    <tr>\n",
       "      <th>3</th>\n",
       "      <td>A Choudhary</td>\n",
       "      <td>5.000000</td>\n",
       "      <td>5.0</td>\n",
       "      <td>4</td>\n",
       "      <td>6</td>\n",
       "    </tr>\n",
       "    <tr>\n",
       "      <th>4</th>\n",
       "      <td>A Dananjaya</td>\n",
       "      <td>4.000000</td>\n",
       "      <td>4.0</td>\n",
       "      <td>4</td>\n",
       "      <td>4</td>\n",
       "    </tr>\n",
       "  </tbody>\n",
       "</table>\n",
       "</div>"
      ],
      "text/plain": [
       "          batsman  Mean_runs  Median_runs  Min_runs  Max_runs\n",
       "0  A Ashish Reddy  12.095238         10.0         2        36\n",
       "1      A Chandila   2.000000          2.0         0         4\n",
       "2        A Chopra   8.833333          6.5         1        24\n",
       "3     A Choudhary   5.000000          5.0         4         6\n",
       "4     A Dananjaya   4.000000          4.0         4         4"
      ]
     },
     "execution_count": 57,
     "metadata": {},
     "output_type": "execute_result"
    }
   ],
   "source": [
    "groups_ord = df.groupby(['batsman']).agg({'Total_Runs': ['mean','median','min','max']}).reset_index()\n",
    "groups_ord.columns = groups_ord.columns.droplevel()\n",
    "#{'Mean','Median','Min','Max'}\n",
    "groups_ord.columns=['batsman','Mean_runs','Median_runs','Min_runs','Max_runs']\n",
    "groups_ord.head()"
   ]
  },
  {
   "cell_type": "code",
   "execution_count": 58,
   "metadata": {},
   "outputs": [],
   "source": [
    "df1 = pd.merge(df,groups_ord, how = 'left', left_on = ['batsman'], right_on = ['batsman'])"
   ]
  },
  {
   "cell_type": "code",
   "execution_count": 59,
   "metadata": {},
   "outputs": [
    {
     "name": "stdout",
     "output_type": "stream",
     "text": [
      "<class 'pandas.core.frame.DataFrame'>\n",
      "Int64Index: 9085 entries, 0 to 9084\n",
      "Data columns (total 41 columns):\n",
      "match_id                   9085 non-null int64\n",
      "inning                     9085 non-null int64\n",
      "season                     9085 non-null int64\n",
      "batsman                    9085 non-null object\n",
      "venue                      9085 non-null object\n",
      "toss_winner                9085 non-null object\n",
      "toss_decision              9085 non-null object\n",
      "batting_team               9085 non-null object\n",
      "bowling_team               9085 non-null object\n",
      "Batsmen_Order              9085 non-null int64\n",
      "Batting_hand               9085 non-null int64\n",
      "Played_at_age              9085 non-null int64\n",
      "Played_at_age_Bucket       9085 non-null object\n",
      "Ground_Type                9085 non-null object\n",
      "Total_Runs                 9085 non-null int64\n",
      "Mean_ven                   9085 non-null float64\n",
      "Median_ven                 9085 non-null float64\n",
      "Min_ven                    9085 non-null int64\n",
      "Max_ven                    9085 non-null int64\n",
      "Mean_ord                   9085 non-null float64\n",
      "Median_ord                 9085 non-null float64\n",
      "Min_ord                    9085 non-null int64\n",
      "Max_ord                    9085 non-null int64\n",
      "Total_Dream_Score          9085 non-null int64\n",
      "Espn_Id                    9023 non-null float64\n",
      "strike_rate                9085 non-null float64\n",
      "batting_average            9085 non-null float64\n",
      "centuries                  9085 non-null int64\n",
      "fifties                    9085 non-null int64\n",
      "fours                      9085 non-null int64\n",
      "sixes                      9085 non-null int64\n",
      "Espn_id                    9015 non-null float64\n",
      "Espn_play_role             9015 non-null object\n",
      "Batting_hand_dumm          9085 non-null int32\n",
      "toss_decision_dumm         9085 non-null int32\n",
      "Ground_Type_dumm           9085 non-null int32\n",
      "batsman_count_in_series    9085 non-null int64\n",
      "Mean_runs                  9085 non-null float64\n",
      "Median_runs                9085 non-null float64\n",
      "Min_runs                   9085 non-null int64\n",
      "Max_runs                   9085 non-null int64\n",
      "dtypes: float64(10), int32(3), int64(19), object(9)\n",
      "memory usage: 2.8+ MB\n"
     ]
    }
   ],
   "source": [
    "df1.info()"
   ]
  },
  {
   "cell_type": "markdown",
   "metadata": {},
   "source": [
    "# df=df.drop('batsman', axis=1)\n",
    "df1=df1.drop('batsman', axis=1)\n",
    "df1=df1.drop('Total_Runs', axis=1)\n",
    "df1=df1.drop('match_id', axis=1)\n",
    "#df1=df1.drop('Played_at_age_Bucket', axis = 1)\n",
    "df1=df1.drop('Batting_hand', axis = 1)\n",
    "df1=df1.drop('Ground_Type', axis = 1)\n",
    "#df1=df1.drop('Unnamed: 0', axis = 1)\n",
    "df1=df1.drop('Espn_play_role', axis = 1)\n",
    "df1=df1.drop('Espn_id', axis = 1)\n",
    "df1 = df1.drop('toss_decision', axis=1)\n",
    "df1 = df1.drop('Espn_Id', axis=1) \n",
    "df1 = df1.drop('Played_at_age', axis=1) \n",
    "df1 = df1.drop('Played_at_age_Bucket', axis=1) "
   ]
  },
  {
   "cell_type": "code",
   "execution_count": 21,
   "metadata": {},
   "outputs": [
    {
     "data": {
      "text/plain": [
       "False"
      ]
     },
     "execution_count": 21,
     "metadata": {},
     "output_type": "execute_result"
    }
   ],
   "source": [
    "df1.isnull().values.any()\n",
    "#df=df.drop('batsman', axis=1)"
   ]
  },
  {
   "cell_type": "code",
   "execution_count": 22,
   "metadata": {},
   "outputs": [
    {
     "name": "stdout",
     "output_type": "stream",
     "text": [
      "<class 'pandas.core.frame.DataFrame'>\n",
      "Int64Index: 9085 entries, 0 to 9084\n",
      "Data columns (total 30 columns):\n",
      "inning                     9085 non-null int64\n",
      "season                     9085 non-null int64\n",
      "venue                      9085 non-null object\n",
      "toss_winner                9085 non-null object\n",
      "batting_team               9085 non-null object\n",
      "bowling_team               9085 non-null object\n",
      "Batsmen_Order              9085 non-null int64\n",
      "Mean_ven                   9085 non-null float64\n",
      "Median_ven                 9085 non-null float64\n",
      "Min_ven                    9085 non-null int64\n",
      "Max_ven                    9085 non-null int64\n",
      "Mean_ord                   9085 non-null float64\n",
      "Median_ord                 9085 non-null float64\n",
      "Min_ord                    9085 non-null int64\n",
      "Max_ord                    9085 non-null int64\n",
      "Total_Dream_Score          9085 non-null int64\n",
      "strike_rate                9085 non-null float64\n",
      "batting_average            9085 non-null float64\n",
      "centuries                  9085 non-null int64\n",
      "fifties                    9085 non-null int64\n",
      "fours                      9085 non-null int64\n",
      "sixes                      9085 non-null int64\n",
      "Batting_hand_dumm          9085 non-null int32\n",
      "toss_decision_dumm         9085 non-null int32\n",
      "Ground_Type_dumm           9085 non-null int32\n",
      "batsman_count_in_series    9085 non-null int64\n",
      "Mean_runs                  9085 non-null float64\n",
      "Median_runs                9085 non-null float64\n",
      "Min_runs                   9085 non-null int64\n",
      "Max_runs                   9085 non-null int64\n",
      "dtypes: float64(8), int32(3), int64(15), object(4)\n",
      "memory usage: 2.0+ MB\n"
     ]
    }
   ],
   "source": [
    "df1.info()"
   ]
  },
  {
   "cell_type": "code",
   "execution_count": 60,
   "metadata": {},
   "outputs": [],
   "source": [
    "df1 = df1.replace(to_replace = \"St George's Park\",value ='St Georges Park', regex = True)\n",
    "df1 = df1.replace(to_replace = \" \",value ='_', regex = True)\n",
    "df1 = df1.replace(to_replace = \",\",value ='', regex = True)"
   ]
  },
  {
   "cell_type": "code",
   "execution_count": 61,
   "metadata": {},
   "outputs": [],
   "source": [
    "df1 = pd.get_dummies(df1, columns=['venue','batting_team','bowling_team','toss_winner'])"
   ]
  },
  {
   "cell_type": "code",
   "execution_count": 56,
   "metadata": {},
   "outputs": [],
   "source": [
    "#df1 = pd.get_dummies(df, columns=['venue','batting_team','bowling_team','toss_winner'])"
   ]
  },
  {
   "cell_type": "code",
   "execution_count": 62,
   "metadata": {},
   "outputs": [],
   "source": [
    "df1.to_csv('Model_Data_Dream_with_all_Var.csv', index = False)"
   ]
  },
  {
   "cell_type": "code",
   "execution_count": null,
   "metadata": {},
   "outputs": [],
   "source": [
    "df1['Total_Dream_Score'].describe()"
   ]
  },
  {
   "cell_type": "code",
   "execution_count": null,
   "metadata": {},
   "outputs": [],
   "source": [
    "#mpg_df = pd.get_dummies(mpg_df, columns=['batsman'])"
   ]
  },
  {
   "cell_type": "code",
   "execution_count": null,
   "metadata": {},
   "outputs": [],
   "source": [
    "#import numpy as np\n",
    "#df[df['Batsmen_Order']!=np.nan].shape#.isna().any()"
   ]
  },
  {
   "cell_type": "code",
   "execution_count": null,
   "metadata": {},
   "outputs": [],
   "source": [
    "df1.shape"
   ]
  },
  {
   "cell_type": "code",
   "execution_count": null,
   "metadata": {},
   "outputs": [],
   "source": [
    "#mpg_df=mpg_df.dropna()"
   ]
  },
  {
   "cell_type": "code",
   "execution_count": 62,
   "metadata": {},
   "outputs": [
    {
     "name": "stdout",
     "output_type": "stream",
     "text": [
      "(9085, 79)\n",
      "(9085, 1)\n"
     ]
    }
   ],
   "source": [
    "X = df1.drop('Total_Dream_Score', axis=1)\n",
    "#X = X.drop({'origin_america', 'origin_asia' ,'origin_europe'}, axis=1)\n",
    "print(X.shape)\n",
    "# Copy the 'mpg' column alone into the y dataframe. This is the dependent variable\n",
    "y = df1[['Total_Dream_Score']]\n",
    "print(y.shape)"
   ]
  },
  {
   "cell_type": "code",
   "execution_count": 63,
   "metadata": {},
   "outputs": [],
   "source": [
    "#y"
   ]
  },
  {
   "cell_type": "code",
   "execution_count": 64,
   "metadata": {},
   "outputs": [],
   "source": [
    "from sklearn.model_selection import train_test_split\n",
    "from sklearn.linear_model import LinearRegression\n",
    "from sklearn.preprocessing import StandardScaler"
   ]
  },
  {
   "cell_type": "code",
   "execution_count": 78,
   "metadata": {},
   "outputs": [],
   "source": [
    "X_train, X_test, y_train, y_test = train_test_split(X, y, test_size=0.30 , random_state=1)"
   ]
  },
  {
   "cell_type": "code",
   "execution_count": 79,
   "metadata": {},
   "outputs": [
    {
     "name": "stdout",
     "output_type": "stream",
     "text": [
      "(6359, 79)\n",
      "(2726, 79)\n",
      "(6359, 1)\n",
      "(2726, 1)\n"
     ]
    }
   ],
   "source": [
    "print(X_train.shape)\n",
    "print(X_test.shape)\n",
    "print(y_train.shape)\n",
    "print(y_test.shape)"
   ]
  },
  {
   "cell_type": "code",
   "execution_count": null,
   "metadata": {},
   "outputs": [],
   "source": [
    "#scaler = StandardScaler()"
   ]
  },
  {
   "cell_type": "code",
   "execution_count": null,
   "metadata": {},
   "outputs": [],
   "source": [
    "#train_scaled = scaler.fit_transform(X_train)"
   ]
  },
  {
   "cell_type": "code",
   "execution_count": null,
   "metadata": {},
   "outputs": [],
   "source": [
    "#test_scaled = scaler.transform(X_test)"
   ]
  },
  {
   "cell_type": "code",
   "execution_count": null,
   "metadata": {},
   "outputs": [],
   "source": [
    "#test_scaled = scaler.transform(X_test)"
   ]
  },
  {
   "cell_type": "code",
   "execution_count": null,
   "metadata": {},
   "outputs": [],
   "source": [
    "regression_model = LinearRegression()\n",
    "regression_model.fit(X_train, y_train)"
   ]
  },
  {
   "cell_type": "code",
   "execution_count": null,
   "metadata": {},
   "outputs": [],
   "source": [
    "from sklearn.metrics import mean_squared_error\n",
    "from sklearn.metrics import mean_absolute_error\n",
    "from math import sqrt"
   ]
  },
  {
   "cell_type": "code",
   "execution_count": null,
   "metadata": {},
   "outputs": [],
   "source": [
    "mse = mean_squared_error(y_train, regression_model.predict(X_train))\n",
    "mae = mean_absolute_error(y_train, regression_model.predict(X_train))"
   ]
  },
  {
   "cell_type": "code",
   "execution_count": null,
   "metadata": {},
   "outputs": [],
   "source": [
    "test_mse = mean_squared_error(y_test, model.predict(test_scaled))\n",
    "test_mae = mean_absolute_error(y_test, model.predict(test_scaled))\n",
    "print(\"mse = \",test_mse,\" & mae = \",test_mae,\" & rmse = \", sqrt(test_mse))"
   ]
  },
  {
   "cell_type": "code",
   "execution_count": null,
   "metadata": {},
   "outputs": [],
   "source": [
    "y_pred = regression_model.predict(X_test)"
   ]
  },
  {
   "cell_type": "code",
   "execution_count": null,
   "metadata": {},
   "outputs": [],
   "source": [
    "y_pred[:20]"
   ]
  },
  {
   "cell_type": "code",
   "execution_count": null,
   "metadata": {},
   "outputs": [],
   "source": [
    "regression_model.score(X_test, y_test)"
   ]
  },
  {
   "cell_type": "code",
   "execution_count": null,
   "metadata": {},
   "outputs": [],
   "source": [
    "X_test[:20]"
   ]
  },
  {
   "cell_type": "code",
   "execution_count": null,
   "metadata": {},
   "outputs": [],
   "source": [
    "df.iloc[113812]"
   ]
  },
  {
   "cell_type": "code",
   "execution_count": null,
   "metadata": {},
   "outputs": [],
   "source": [
    "df=df.dropna()"
   ]
  },
  {
   "cell_type": "code",
   "execution_count": null,
   "metadata": {},
   "outputs": [],
   "source": [
    "mse = np.mean((regression_model.predict(X_test)-y_test)**2)"
   ]
  },
  {
   "cell_type": "code",
   "execution_count": null,
   "metadata": {},
   "outputs": [],
   "source": [
    "import math\n",
    "\n",
    "math.sqrt(mse)"
   ]
  },
  {
   "cell_type": "code",
   "execution_count": null,
   "metadata": {},
   "outputs": [],
   "source": [
    "mse = np.mean((regression_model.predict(X_train)-y_train)**2)\n",
    "math.sqrt(mse)"
   ]
  },
  {
   "cell_type": "code",
   "execution_count": null,
   "metadata": {},
   "outputs": [],
   "source": [
    "regression_model.score(X_train, y_train)"
   ]
  },
  {
   "cell_type": "markdown",
   "metadata": {},
   "source": [
    "# Neural Networks"
   ]
  },
  {
   "cell_type": "code",
   "execution_count": null,
   "metadata": {},
   "outputs": [],
   "source": [
    "from sklearn.neural_network import MLPRegressor"
   ]
  },
  {
   "cell_type": "code",
   "execution_count": null,
   "metadata": {},
   "outputs": [],
   "source": [
    "model1 = MLPRegressor()"
   ]
  },
  {
   "cell_type": "code",
   "execution_count": null,
   "metadata": {},
   "outputs": [],
   "source": [
    "model1.fit(X_train, y_train)"
   ]
  },
  {
   "cell_type": "code",
   "execution_count": null,
   "metadata": {},
   "outputs": [],
   "source": [
    "mse = mean_squared_error(y_train, model1.predict(X_train))\n",
    "mae = mean_absolute_error(y_train, model1.predict(X_train))"
   ]
  },
  {
   "cell_type": "code",
   "execution_count": null,
   "metadata": {},
   "outputs": [],
   "source": [
    "print(\"mse = \",mse,\" & mae = \",mae,\" & rmse = \", sqrt(mse))"
   ]
  },
  {
   "cell_type": "code",
   "execution_count": null,
   "metadata": {},
   "outputs": [],
   "source": [
    "test_mse = mean_squared_error(y_test, model1.predict(X_test))\n",
    "test_mae = mean_absolute_error(y_test, model1.predict(X_test))\n",
    "print(\"mse = \",test_mse,\" & mae = \",test_mae,\" & rmse = \", sqrt(test_mse))"
   ]
  },
  {
   "cell_type": "code",
   "execution_count": null,
   "metadata": {},
   "outputs": [],
   "source": [
    "model1.score(X_test, y_test)"
   ]
  },
  {
   "cell_type": "markdown",
   "metadata": {},
   "source": [
    "# Trees"
   ]
  },
  {
   "cell_type": "code",
   "execution_count": 67,
   "metadata": {},
   "outputs": [],
   "source": [
    "from sklearn.tree import DecisionTreeRegressor\n",
    "from sklearn.ensemble import RandomForestRegressor"
   ]
  },
  {
   "cell_type": "code",
   "execution_count": 81,
   "metadata": {},
   "outputs": [],
   "source": [
    "#Labels are the values we want to predict\n",
    "features = df1\n",
    "labels = np.array(features['Total_Dream_Score'])"
   ]
  },
  {
   "cell_type": "code",
   "execution_count": 82,
   "metadata": {},
   "outputs": [],
   "source": [
    "#random state to 42 which means the results will be the same each time I run the split for reproducible results.\n",
    "train_features, test_features, train_labels, test_labels = train_test_split(features, labels, test_size = 0.25, random_state = 42)"
   ]
  },
  {
   "cell_type": "code",
   "execution_count": 68,
   "metadata": {},
   "outputs": [],
   "source": [
    "tree_model = DecisionTreeRegressor()\n",
    "rf_model = RandomForestRegressor()"
   ]
  },
  {
   "cell_type": "code",
   "execution_count": 83,
   "metadata": {},
   "outputs": [
    {
     "data": {
      "text/plain": [
       "RandomForestRegressor(bootstrap=True, criterion='mse', max_depth=None,\n",
       "           max_features='auto', max_leaf_nodes=None,\n",
       "           min_impurity_decrease=0.0, min_impurity_split=None,\n",
       "           min_samples_leaf=1, min_samples_split=2,\n",
       "           min_weight_fraction_leaf=0.0, n_estimators=10, n_jobs=None,\n",
       "           oob_score=False, random_state=None, verbose=0, warm_start=False)"
      ]
     },
     "execution_count": 83,
     "metadata": {},
     "output_type": "execute_result"
    }
   ],
   "source": [
    "tree_model.fit(train_features, train_labels)\n",
    "rf_model.fit(train_features, train_labels)"
   ]
  },
  {
   "cell_type": "code",
   "execution_count": 85,
   "metadata": {},
   "outputs": [
    {
     "name": "stdout",
     "output_type": "stream",
     "text": [
      "Mean Absolute Error: 0.01 degrees.\n"
     ]
    }
   ],
   "source": [
    "# Use the forest's predict method on the test data\n",
    "predictions = rf_model.predict(test_features)\n",
    "# Calculate the absolute errors\n",
    "errors = abs(predictions - test_labels)\n",
    "# Print out the mean absolute error (mae)\n",
    "print('Mean Absolute Error:', round(np.mean(errors), 2), 'degrees.')"
   ]
  },
  {
   "cell_type": "code",
   "execution_count": 90,
   "metadata": {},
   "outputs": [
    {
     "data": {
      "text/plain": [
       "array([0., 0., 0., ..., 0., 0., 0.])"
      ]
     },
     "execution_count": 90,
     "metadata": {},
     "output_type": "execute_result"
    }
   ],
   "source": [
    "errors"
   ]
  },
  {
   "cell_type": "code",
   "execution_count": 88,
   "metadata": {},
   "outputs": [
    {
     "name": "stdout",
     "output_type": "stream",
     "text": [
      "Accuracy: nan %.\n"
     ]
    },
    {
     "name": "stderr",
     "output_type": "stream",
     "text": [
      "C:\\Users\\Acer\\Anaconda3\\lib\\site-packages\\ipykernel_launcher.py:1: RuntimeWarning: invalid value encountered in true_divide\n",
      "  \"\"\"Entry point for launching an IPython kernel.\n"
     ]
    }
   ],
   "source": [
    "mape = 100 * (errors / test_labels)\n",
    "# Calculate and display accuracy\n",
    "accuracy = 100 - np.mean(mape)\n",
    "print('Accuracy:', round(accuracy, 2), '%.')"
   ]
  },
  {
   "cell_type": "code",
   "execution_count": 89,
   "metadata": {},
   "outputs": [
    {
     "data": {
      "text/plain": [
       "array([-0.,  0.,  0., ...,  0.,  0.,  0.])"
      ]
     },
     "execution_count": 89,
     "metadata": {},
     "output_type": "execute_result"
    }
   ],
   "source": [
    "mape"
   ]
  },
  {
   "cell_type": "code",
   "execution_count": null,
   "metadata": {},
   "outputs": [],
   "source": [
    "rf_model.score(X_train, y_train)"
   ]
  },
  {
   "cell_type": "code",
   "execution_count": null,
   "metadata": {},
   "outputs": [],
   "source": [
    "rf_model.score(X_test, y_test)"
   ]
  },
  {
   "cell_type": "code",
   "execution_count": null,
   "metadata": {},
   "outputs": [],
   "source": [
    "tree_model.score(X_train, y_train)"
   ]
  },
  {
   "cell_type": "markdown",
   "metadata": {},
   "source": [
    "# Auto ML"
   ]
  },
  {
   "cell_type": "code",
   "execution_count": 1,
   "metadata": {},
   "outputs": [
    {
     "name": "stdout",
     "output_type": "stream",
     "text": [
      "Checking whether there is an H2O instance running at http://localhost:54321 ..... not found.\n",
      "Attempting to start a local H2O server...\n",
      "; Java HotSpot(TM) 64-Bit Server VM (build 25.221-b11, mixed mode)\n",
      "  Starting server from C:\\Users\\Acer\\Anaconda3\\lib\\site-packages\\h2o\\backend\\bin\\h2o.jar\n",
      "  Ice root: C:\\Windows\\TEMP\\tmpr1boktqs\n",
      "  JVM stdout: C:\\Windows\\TEMP\\tmpr1boktqs\\h2o_Acer_started_from_python.out\n",
      "  JVM stderr: C:\\Windows\\TEMP\\tmpr1boktqs\\h2o_Acer_started_from_python.err\n",
      "  Server is running at http://127.0.0.1:54321\n",
      "Connecting to H2O server at http://127.0.0.1:54321 ... successful.\n"
     ]
    },
    {
     "data": {
      "text/html": [
       "<div style=\"overflow:auto\"><table style=\"width:50%\"><tr><td>H2O cluster uptime:</td>\n",
       "<td>03 secs</td></tr>\n",
       "<tr><td>H2O cluster timezone:</td>\n",
       "<td>Asia/Kolkata</td></tr>\n",
       "<tr><td>H2O data parsing timezone:</td>\n",
       "<td>UTC</td></tr>\n",
       "<tr><td>H2O cluster version:</td>\n",
       "<td>3.28.0.1</td></tr>\n",
       "<tr><td>H2O cluster version age:</td>\n",
       "<td>1 month and 30 days </td></tr>\n",
       "<tr><td>H2O cluster name:</td>\n",
       "<td>H2O_from_python_Acer_1ju73p</td></tr>\n",
       "<tr><td>H2O cluster total nodes:</td>\n",
       "<td>1</td></tr>\n",
       "<tr><td>H2O cluster free memory:</td>\n",
       "<td>892 Mb</td></tr>\n",
       "<tr><td>H2O cluster total cores:</td>\n",
       "<td>4</td></tr>\n",
       "<tr><td>H2O cluster allowed cores:</td>\n",
       "<td>4</td></tr>\n",
       "<tr><td>H2O cluster status:</td>\n",
       "<td>accepting new members, healthy</td></tr>\n",
       "<tr><td>H2O connection url:</td>\n",
       "<td>http://127.0.0.1:54321</td></tr>\n",
       "<tr><td>H2O connection proxy:</td>\n",
       "<td>{'http': None, 'https': None}</td></tr>\n",
       "<tr><td>H2O internal security:</td>\n",
       "<td>False</td></tr>\n",
       "<tr><td>H2O API Extensions:</td>\n",
       "<td>Amazon S3, Algos, AutoML, Core V3, TargetEncoder, Core V4</td></tr>\n",
       "<tr><td>Python version:</td>\n",
       "<td>3.7.1 final</td></tr></table></div>"
      ],
      "text/plain": [
       "--------------------------  ---------------------------------------------------------\n",
       "H2O cluster uptime:         03 secs\n",
       "H2O cluster timezone:       Asia/Kolkata\n",
       "H2O data parsing timezone:  UTC\n",
       "H2O cluster version:        3.28.0.1\n",
       "H2O cluster version age:    1 month and 30 days\n",
       "H2O cluster name:           H2O_from_python_Acer_1ju73p\n",
       "H2O cluster total nodes:    1\n",
       "H2O cluster free memory:    892 Mb\n",
       "H2O cluster total cores:    4\n",
       "H2O cluster allowed cores:  4\n",
       "H2O cluster status:         accepting new members, healthy\n",
       "H2O connection url:         http://127.0.0.1:54321\n",
       "H2O connection proxy:       {'http': None, 'https': None}\n",
       "H2O internal security:      False\n",
       "H2O API Extensions:         Amazon S3, Algos, AutoML, Core V3, TargetEncoder, Core V4\n",
       "Python version:             3.7.1 final\n",
       "--------------------------  ---------------------------------------------------------"
      ]
     },
     "metadata": {},
     "output_type": "display_data"
    }
   ],
   "source": [
    "import h2o\n",
    "from h2o.automl import H2OAutoML\n",
    "h2o.init()"
   ]
  },
  {
   "cell_type": "code",
   "execution_count": 28,
   "metadata": {},
   "outputs": [
    {
     "data": {
      "text/html": [
       "<div>\n",
       "<style scoped>\n",
       "    .dataframe tbody tr th:only-of-type {\n",
       "        vertical-align: middle;\n",
       "    }\n",
       "\n",
       "    .dataframe tbody tr th {\n",
       "        vertical-align: top;\n",
       "    }\n",
       "\n",
       "    .dataframe thead th {\n",
       "        text-align: right;\n",
       "    }\n",
       "</style>\n",
       "<table border=\"1\" class=\"dataframe\">\n",
       "  <thead>\n",
       "    <tr style=\"text-align: right;\">\n",
       "      <th></th>\n",
       "      <th>match_id</th>\n",
       "      <th>inning</th>\n",
       "      <th>season</th>\n",
       "      <th>batsman</th>\n",
       "      <th>venue</th>\n",
       "      <th>toss_winner</th>\n",
       "      <th>toss_decision</th>\n",
       "      <th>batting_team</th>\n",
       "      <th>bowling_team</th>\n",
       "      <th>Batsmen_Order</th>\n",
       "      <th>...</th>\n",
       "      <th>centuries</th>\n",
       "      <th>fifties</th>\n",
       "      <th>fours</th>\n",
       "      <th>sixes</th>\n",
       "      <th>Espn_id</th>\n",
       "      <th>Espn_play_role</th>\n",
       "      <th>Batting_hand_dumm</th>\n",
       "      <th>toss_decision_dumm</th>\n",
       "      <th>Ground_Type_dumm</th>\n",
       "      <th>batsman_count_in_series</th>\n",
       "    </tr>\n",
       "  </thead>\n",
       "  <tbody>\n",
       "    <tr>\n",
       "      <th>0</th>\n",
       "      <td>1</td>\n",
       "      <td>1</td>\n",
       "      <td>2017</td>\n",
       "      <td>BCJ Cutting</td>\n",
       "      <td>Rajiv Gandhi International Stadium,Uppal</td>\n",
       "      <td>RCB</td>\n",
       "      <td>field</td>\n",
       "      <td>SRH</td>\n",
       "      <td>RCB</td>\n",
       "      <td>5</td>\n",
       "      <td>...</td>\n",
       "      <td>0</td>\n",
       "      <td>3</td>\n",
       "      <td>100</td>\n",
       "      <td>120</td>\n",
       "      <td>230371.0</td>\n",
       "      <td>Allrounder</td>\n",
       "      <td>1</td>\n",
       "      <td>0</td>\n",
       "      <td>0</td>\n",
       "      <td>1</td>\n",
       "    </tr>\n",
       "    <tr>\n",
       "      <th>1</th>\n",
       "      <td>1</td>\n",
       "      <td>1</td>\n",
       "      <td>2017</td>\n",
       "      <td>DA Warner</td>\n",
       "      <td>Rajiv Gandhi International Stadium,Uppal</td>\n",
       "      <td>RCB</td>\n",
       "      <td>field</td>\n",
       "      <td>SRH</td>\n",
       "      <td>RCB</td>\n",
       "      <td>1</td>\n",
       "      <td>...</td>\n",
       "      <td>8</td>\n",
       "      <td>73</td>\n",
       "      <td>891</td>\n",
       "      <td>356</td>\n",
       "      <td>219889.0</td>\n",
       "      <td>Opening batsman</td>\n",
       "      <td>0</td>\n",
       "      <td>0</td>\n",
       "      <td>0</td>\n",
       "      <td>1</td>\n",
       "    </tr>\n",
       "    <tr>\n",
       "      <th>2</th>\n",
       "      <td>1</td>\n",
       "      <td>1</td>\n",
       "      <td>2017</td>\n",
       "      <td>DJ Hooda</td>\n",
       "      <td>Rajiv Gandhi International Stadium,Uppal</td>\n",
       "      <td>RCB</td>\n",
       "      <td>field</td>\n",
       "      <td>SRH</td>\n",
       "      <td>RCB</td>\n",
       "      <td>4</td>\n",
       "      <td>...</td>\n",
       "      <td>1</td>\n",
       "      <td>7</td>\n",
       "      <td>103</td>\n",
       "      <td>72</td>\n",
       "      <td>497121.0</td>\n",
       "      <td>Allrounder</td>\n",
       "      <td>1</td>\n",
       "      <td>0</td>\n",
       "      <td>0</td>\n",
       "      <td>1</td>\n",
       "    </tr>\n",
       "    <tr>\n",
       "      <th>3</th>\n",
       "      <td>1</td>\n",
       "      <td>1</td>\n",
       "      <td>2017</td>\n",
       "      <td>MC Henriques</td>\n",
       "      <td>Rajiv Gandhi International Stadium,Uppal</td>\n",
       "      <td>RCB</td>\n",
       "      <td>field</td>\n",
       "      <td>SRH</td>\n",
       "      <td>RCB</td>\n",
       "      <td>2</td>\n",
       "      <td>...</td>\n",
       "      <td>0</td>\n",
       "      <td>17</td>\n",
       "      <td>285</td>\n",
       "      <td>103</td>\n",
       "      <td>5961.0</td>\n",
       "      <td>Allrounder</td>\n",
       "      <td>1</td>\n",
       "      <td>0</td>\n",
       "      <td>0</td>\n",
       "      <td>1</td>\n",
       "    </tr>\n",
       "    <tr>\n",
       "      <th>4</th>\n",
       "      <td>1</td>\n",
       "      <td>1</td>\n",
       "      <td>2017</td>\n",
       "      <td>S Dhawan</td>\n",
       "      <td>Rajiv Gandhi International Stadium,Uppal</td>\n",
       "      <td>RCB</td>\n",
       "      <td>field</td>\n",
       "      <td>SRH</td>\n",
       "      <td>RCB</td>\n",
       "      <td>0</td>\n",
       "      <td>...</td>\n",
       "      <td>0</td>\n",
       "      <td>54</td>\n",
       "      <td>831</td>\n",
       "      <td>166</td>\n",
       "      <td>28235.0</td>\n",
       "      <td>Opening batsman</td>\n",
       "      <td>0</td>\n",
       "      <td>0</td>\n",
       "      <td>0</td>\n",
       "      <td>1</td>\n",
       "    </tr>\n",
       "  </tbody>\n",
       "</table>\n",
       "<p>5 rows × 37 columns</p>\n",
       "</div>"
      ],
      "text/plain": [
       "   match_id  inning  season       batsman  \\\n",
       "0         1       1    2017   BCJ Cutting   \n",
       "1         1       1    2017     DA Warner   \n",
       "2         1       1    2017      DJ Hooda   \n",
       "3         1       1    2017  MC Henriques   \n",
       "4         1       1    2017      S Dhawan   \n",
       "\n",
       "                                      venue toss_winner toss_decision  \\\n",
       "0  Rajiv Gandhi International Stadium,Uppal         RCB         field   \n",
       "1  Rajiv Gandhi International Stadium,Uppal         RCB         field   \n",
       "2  Rajiv Gandhi International Stadium,Uppal         RCB         field   \n",
       "3  Rajiv Gandhi International Stadium,Uppal         RCB         field   \n",
       "4  Rajiv Gandhi International Stadium,Uppal         RCB         field   \n",
       "\n",
       "  batting_team bowling_team  Batsmen_Order           ...             \\\n",
       "0          SRH          RCB              5           ...              \n",
       "1          SRH          RCB              1           ...              \n",
       "2          SRH          RCB              4           ...              \n",
       "3          SRH          RCB              2           ...              \n",
       "4          SRH          RCB              0           ...              \n",
       "\n",
       "   centuries  fifties fours sixes   Espn_id   Espn_play_role  \\\n",
       "0          0        3   100   120  230371.0       Allrounder   \n",
       "1          8       73   891   356  219889.0  Opening batsman   \n",
       "2          1        7   103    72  497121.0       Allrounder   \n",
       "3          0       17   285   103    5961.0       Allrounder   \n",
       "4          0       54   831   166   28235.0  Opening batsman   \n",
       "\n",
       "   Batting_hand_dumm  toss_decision_dumm  Ground_Type_dumm  \\\n",
       "0                  1                   0                 0   \n",
       "1                  0                   0                 0   \n",
       "2                  1                   0                 0   \n",
       "3                  1                   0                 0   \n",
       "4                  0                   0                 0   \n",
       "\n",
       "   batsman_count_in_series  \n",
       "0                        1  \n",
       "1                        1  \n",
       "2                        1  \n",
       "3                        1  \n",
       "4                        1  \n",
       "\n",
       "[5 rows x 37 columns]"
      ]
     },
     "execution_count": 28,
     "metadata": {},
     "output_type": "execute_result"
    }
   ],
   "source": [
    "df.head()"
   ]
  },
  {
   "cell_type": "code",
   "execution_count": 29,
   "metadata": {},
   "outputs": [],
   "source": [
    "Df = df[df['match_id'].isin([1,2])] "
   ]
  },
  {
   "cell_type": "code",
   "execution_count": 30,
   "metadata": {},
   "outputs": [
    {
     "data": {
      "text/html": [
       "<div>\n",
       "<style scoped>\n",
       "    .dataframe tbody tr th:only-of-type {\n",
       "        vertical-align: middle;\n",
       "    }\n",
       "\n",
       "    .dataframe tbody tr th {\n",
       "        vertical-align: top;\n",
       "    }\n",
       "\n",
       "    .dataframe thead th {\n",
       "        text-align: right;\n",
       "    }\n",
       "</style>\n",
       "<table border=\"1\" class=\"dataframe\">\n",
       "  <thead>\n",
       "    <tr style=\"text-align: right;\">\n",
       "      <th></th>\n",
       "      <th>match_id</th>\n",
       "      <th>inning</th>\n",
       "      <th>season</th>\n",
       "      <th>batsman</th>\n",
       "      <th>venue</th>\n",
       "      <th>toss_winner</th>\n",
       "      <th>toss_decision</th>\n",
       "      <th>batting_team</th>\n",
       "      <th>bowling_team</th>\n",
       "      <th>Batsmen_Order</th>\n",
       "      <th>...</th>\n",
       "      <th>centuries</th>\n",
       "      <th>fifties</th>\n",
       "      <th>fours</th>\n",
       "      <th>sixes</th>\n",
       "      <th>Espn_id</th>\n",
       "      <th>Espn_play_role</th>\n",
       "      <th>Batting_hand_dumm</th>\n",
       "      <th>toss_decision_dumm</th>\n",
       "      <th>Ground_Type_dumm</th>\n",
       "      <th>batsman_count_in_series</th>\n",
       "    </tr>\n",
       "  </thead>\n",
       "  <tbody>\n",
       "    <tr>\n",
       "      <th>0</th>\n",
       "      <td>1</td>\n",
       "      <td>1</td>\n",
       "      <td>2017</td>\n",
       "      <td>BCJ Cutting</td>\n",
       "      <td>Rajiv Gandhi International Stadium,Uppal</td>\n",
       "      <td>RCB</td>\n",
       "      <td>field</td>\n",
       "      <td>SRH</td>\n",
       "      <td>RCB</td>\n",
       "      <td>5</td>\n",
       "      <td>...</td>\n",
       "      <td>0</td>\n",
       "      <td>3</td>\n",
       "      <td>100</td>\n",
       "      <td>120</td>\n",
       "      <td>230371.0</td>\n",
       "      <td>Allrounder</td>\n",
       "      <td>1</td>\n",
       "      <td>0</td>\n",
       "      <td>0</td>\n",
       "      <td>1</td>\n",
       "    </tr>\n",
       "    <tr>\n",
       "      <th>1</th>\n",
       "      <td>1</td>\n",
       "      <td>1</td>\n",
       "      <td>2017</td>\n",
       "      <td>DA Warner</td>\n",
       "      <td>Rajiv Gandhi International Stadium,Uppal</td>\n",
       "      <td>RCB</td>\n",
       "      <td>field</td>\n",
       "      <td>SRH</td>\n",
       "      <td>RCB</td>\n",
       "      <td>1</td>\n",
       "      <td>...</td>\n",
       "      <td>8</td>\n",
       "      <td>73</td>\n",
       "      <td>891</td>\n",
       "      <td>356</td>\n",
       "      <td>219889.0</td>\n",
       "      <td>Opening batsman</td>\n",
       "      <td>0</td>\n",
       "      <td>0</td>\n",
       "      <td>0</td>\n",
       "      <td>1</td>\n",
       "    </tr>\n",
       "    <tr>\n",
       "      <th>2</th>\n",
       "      <td>1</td>\n",
       "      <td>1</td>\n",
       "      <td>2017</td>\n",
       "      <td>DJ Hooda</td>\n",
       "      <td>Rajiv Gandhi International Stadium,Uppal</td>\n",
       "      <td>RCB</td>\n",
       "      <td>field</td>\n",
       "      <td>SRH</td>\n",
       "      <td>RCB</td>\n",
       "      <td>4</td>\n",
       "      <td>...</td>\n",
       "      <td>1</td>\n",
       "      <td>7</td>\n",
       "      <td>103</td>\n",
       "      <td>72</td>\n",
       "      <td>497121.0</td>\n",
       "      <td>Allrounder</td>\n",
       "      <td>1</td>\n",
       "      <td>0</td>\n",
       "      <td>0</td>\n",
       "      <td>1</td>\n",
       "    </tr>\n",
       "    <tr>\n",
       "      <th>3</th>\n",
       "      <td>1</td>\n",
       "      <td>1</td>\n",
       "      <td>2017</td>\n",
       "      <td>MC Henriques</td>\n",
       "      <td>Rajiv Gandhi International Stadium,Uppal</td>\n",
       "      <td>RCB</td>\n",
       "      <td>field</td>\n",
       "      <td>SRH</td>\n",
       "      <td>RCB</td>\n",
       "      <td>2</td>\n",
       "      <td>...</td>\n",
       "      <td>0</td>\n",
       "      <td>17</td>\n",
       "      <td>285</td>\n",
       "      <td>103</td>\n",
       "      <td>5961.0</td>\n",
       "      <td>Allrounder</td>\n",
       "      <td>1</td>\n",
       "      <td>0</td>\n",
       "      <td>0</td>\n",
       "      <td>1</td>\n",
       "    </tr>\n",
       "    <tr>\n",
       "      <th>4</th>\n",
       "      <td>1</td>\n",
       "      <td>1</td>\n",
       "      <td>2017</td>\n",
       "      <td>S Dhawan</td>\n",
       "      <td>Rajiv Gandhi International Stadium,Uppal</td>\n",
       "      <td>RCB</td>\n",
       "      <td>field</td>\n",
       "      <td>SRH</td>\n",
       "      <td>RCB</td>\n",
       "      <td>0</td>\n",
       "      <td>...</td>\n",
       "      <td>0</td>\n",
       "      <td>54</td>\n",
       "      <td>831</td>\n",
       "      <td>166</td>\n",
       "      <td>28235.0</td>\n",
       "      <td>Opening batsman</td>\n",
       "      <td>0</td>\n",
       "      <td>0</td>\n",
       "      <td>0</td>\n",
       "      <td>1</td>\n",
       "    </tr>\n",
       "  </tbody>\n",
       "</table>\n",
       "<p>5 rows × 37 columns</p>\n",
       "</div>"
      ],
      "text/plain": [
       "   match_id  inning  season       batsman  \\\n",
       "0         1       1    2017   BCJ Cutting   \n",
       "1         1       1    2017     DA Warner   \n",
       "2         1       1    2017      DJ Hooda   \n",
       "3         1       1    2017  MC Henriques   \n",
       "4         1       1    2017      S Dhawan   \n",
       "\n",
       "                                      venue toss_winner toss_decision  \\\n",
       "0  Rajiv Gandhi International Stadium,Uppal         RCB         field   \n",
       "1  Rajiv Gandhi International Stadium,Uppal         RCB         field   \n",
       "2  Rajiv Gandhi International Stadium,Uppal         RCB         field   \n",
       "3  Rajiv Gandhi International Stadium,Uppal         RCB         field   \n",
       "4  Rajiv Gandhi International Stadium,Uppal         RCB         field   \n",
       "\n",
       "  batting_team bowling_team  Batsmen_Order           ...             \\\n",
       "0          SRH          RCB              5           ...              \n",
       "1          SRH          RCB              1           ...              \n",
       "2          SRH          RCB              4           ...              \n",
       "3          SRH          RCB              2           ...              \n",
       "4          SRH          RCB              0           ...              \n",
       "\n",
       "   centuries  fifties fours sixes   Espn_id   Espn_play_role  \\\n",
       "0          0        3   100   120  230371.0       Allrounder   \n",
       "1          8       73   891   356  219889.0  Opening batsman   \n",
       "2          1        7   103    72  497121.0       Allrounder   \n",
       "3          0       17   285   103    5961.0       Allrounder   \n",
       "4          0       54   831   166   28235.0  Opening batsman   \n",
       "\n",
       "   Batting_hand_dumm  toss_decision_dumm  Ground_Type_dumm  \\\n",
       "0                  1                   0                 0   \n",
       "1                  0                   0                 0   \n",
       "2                  1                   0                 0   \n",
       "3                  1                   0                 0   \n",
       "4                  0                   0                 0   \n",
       "\n",
       "   batsman_count_in_series  \n",
       "0                        1  \n",
       "1                        1  \n",
       "2                        1  \n",
       "3                        1  \n",
       "4                        1  \n",
       "\n",
       "[5 rows x 37 columns]"
      ]
     },
     "execution_count": 30,
     "metadata": {},
     "output_type": "execute_result"
    }
   ],
   "source": [
    "df.head()"
   ]
  },
  {
   "cell_type": "code",
   "execution_count": 32,
   "metadata": {},
   "outputs": [],
   "source": [
    "#df = df.drop('Unnamed: 0', axis = 1)\n",
    "df =df.drop('Total_Runs', axis=1)\n",
    "df =df.drop('match_id', axis=1)\n",
    "df = df.drop('batsman', axis =1)"
   ]
  },
  {
   "cell_type": "code",
   "execution_count": 33,
   "metadata": {},
   "outputs": [],
   "source": [
    "df['inning_dumm'] = np.select(\n",
    "[df['inning'] == 1,\n",
    "df['inning'] ==2],\n",
    "[0,1])\n",
    "\n",
    "\n",
    "df = df.drop('inning', axis =1)"
   ]
  },
  {
   "cell_type": "code",
   "execution_count": 34,
   "metadata": {},
   "outputs": [
    {
     "name": "stdout",
     "output_type": "stream",
     "text": [
      "Parse progress: |█████████████████████████████████████████████████████████| 100%\n"
     ]
    }
   ],
   "source": [
    "df = h2o.H2OFrame(df)"
   ]
  },
  {
   "cell_type": "code",
   "execution_count": null,
   "metadata": {},
   "outputs": [],
   "source": [
    "#df1 = pd.get_dummies(df, columns=['venue','batting_team','Played_at_age_Bucket','bowling_team','toss_winner'])"
   ]
  },
  {
   "cell_type": "code",
   "execution_count": 35,
   "metadata": {},
   "outputs": [],
   "source": [
    "df['Batting_hand'] = df['Batting_hand'].asfactor()\n",
    "df['Ground_Type'] = df['Ground_Type'].asfactor()\n",
    "df['inning_dumm'] = df['inning_dumm'].asfactor()\n",
    "df['venue'] = df['venue'].asfactor()\n",
    "df['batting_team'] = df['batting_team'].asfactor()\n",
    "df['Played_at_age_Bucket'] = df['Played_at_age_Bucket'].asfactor()\n",
    "df['bowling_team'] = df['bowling_team'].asfactor()\n",
    "df['toss_winner'] = df['toss_winner'].asfactor()\n",
    "#df1=df1.drop('Played_at_age_Bucket', axis = 1)\n",
    "#df[] =df1.drop('Batting_hand', axis = 1)\n",
    "#df[] =df1.drop('Ground_Type', axis = 1)"
   ]
  },
  {
   "cell_type": "code",
   "execution_count": null,
   "metadata": {},
   "outputs": [],
   "source": [
    "df['Ground_Type'].summary()"
   ]
  },
  {
   "cell_type": "code",
   "execution_count": 36,
   "metadata": {},
   "outputs": [],
   "source": [
    "y = 'Total_Dream_Score'\n",
    "x = df.columns\n",
    "x.remove(y)"
   ]
  },
  {
   "cell_type": "code",
   "execution_count": 37,
   "metadata": {},
   "outputs": [],
   "source": [
    "folds = 2\n",
    "assigment_type = \"stratified\""
   ]
  },
  {
   "cell_type": "code",
   "execution_count": 38,
   "metadata": {},
   "outputs": [],
   "source": [
    "splits = df.split_frame(ratios = [0.8], seed =7)\n",
    "train = splits[0]\n",
    "test = splits[1]"
   ]
  },
  {
   "cell_type": "code",
   "execution_count": null,
   "metadata": {},
   "outputs": [],
   "source": [
    "model = H2OAutoML(max_runtime_secs = 60,\n",
    "                 stopping_rounds = 50,\n",
    "                 project_name = 'IPL',\n",
    "                 seed = 1)"
   ]
  },
  {
   "cell_type": "code",
   "execution_count": null,
   "metadata": {},
   "outputs": [],
   "source": [
    "model.train(x=x,\n",
    "           y=y,\n",
    "           training_frame = train)"
   ]
  },
  {
   "cell_type": "code",
   "execution_count": null,
   "metadata": {},
   "outputs": [],
   "source": [
    "lb = model.leaderboard\n",
    "lb"
   ]
  },
  {
   "cell_type": "code",
   "execution_count": null,
   "metadata": {},
   "outputs": [],
   "source": [
    "m1 = h2o.get_model(lb[1,\"model_id\"])"
   ]
  },
  {
   "cell_type": "code",
   "execution_count": null,
   "metadata": {},
   "outputs": [],
   "source": [
    "h2o.save_model(model.leader, path = 'abc')"
   ]
  },
  {
   "cell_type": "code",
   "execution_count": null,
   "metadata": {},
   "outputs": [],
   "source": [
    "h2o.save_model(m1, path = '')"
   ]
  },
  {
   "cell_type": "code",
   "execution_count": 2,
   "metadata": {},
   "outputs": [],
   "source": [
    "saved_model1 = h2o.load_model('GBM_grid__1_AutoML_20200104_120454_model_11')"
   ]
  },
  {
   "cell_type": "code",
   "execution_count": 40,
   "metadata": {},
   "outputs": [
    {
     "name": "stdout",
     "output_type": "stream",
     "text": [
      "gbm prediction progress: |████████████████████████████████████████████████| 100%\n"
     ]
    },
    {
     "name": "stderr",
     "output_type": "stream",
     "text": [
      "C:\\Users\\Acer\\Anaconda3\\lib\\site-packages\\h2o\\job.py:70: UserWarning: Test/Validation dataset column 'toss_winner' has levels not trained on: [DC]\n",
      "  warnings.warn(w)\n"
     ]
    }
   ],
   "source": [
    "pred = saved_model1.predict(test)"
   ]
  },
  {
   "cell_type": "code",
   "execution_count": null,
   "metadata": {},
   "outputs": [],
   "source": [
    "pred"
   ]
  },
  {
   "cell_type": "code",
   "execution_count": null,
   "metadata": {},
   "outputs": [],
   "source": [
    "feat =m1.varimp(use_pandas = True)"
   ]
  },
  {
   "cell_type": "code",
   "execution_count": null,
   "metadata": {},
   "outputs": [],
   "source": [
    "feat"
   ]
  },
  {
   "cell_type": "code",
   "execution_count": 42,
   "metadata": {},
   "outputs": [],
   "source": [
    "perf = saved_model1.model_performance(test)"
   ]
  },
  {
   "cell_type": "code",
   "execution_count": 43,
   "metadata": {},
   "outputs": [
    {
     "name": "stdout",
     "output_type": "stream",
     "text": [
      "\n",
      "ModelMetricsRegression: gbm\n",
      "** Reported on test data. **\n",
      "\n",
      "MSE: 479.31403186213174\n",
      "RMSE: 21.89324169377691\n",
      "MAE: 14.717876359143045\n",
      "RMSLE: NaN\n",
      "Mean Residual Deviance: 479.31403186213174\n"
     ]
    },
    {
     "data": {
      "text/plain": []
     },
     "execution_count": 43,
     "metadata": {},
     "output_type": "execute_result"
    }
   ],
   "source": [
    "perf"
   ]
  },
  {
   "cell_type": "code",
   "execution_count": null,
   "metadata": {},
   "outputs": [],
   "source": [
    "m1.r2()"
   ]
  },
  {
   "cell_type": "code",
   "execution_count": null,
   "metadata": {},
   "outputs": [],
   "source": []
  }
 ],
 "metadata": {
  "kernelspec": {
   "display_name": "Python 3",
   "language": "python",
   "name": "python3"
  },
  "language_info": {
   "codemirror_mode": {
    "name": "ipython",
    "version": 3
   },
   "file_extension": ".py",
   "mimetype": "text/x-python",
   "name": "python",
   "nbconvert_exporter": "python",
   "pygments_lexer": "ipython3",
   "version": "3.7.1"
  }
 },
 "nbformat": 4,
 "nbformat_minor": 2
}
